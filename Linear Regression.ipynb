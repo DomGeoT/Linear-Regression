{
 "cells": [
  {
   "cell_type": "markdown",
   "metadata": {},
   "source": [
    "# Linear Regression (Least Squares)\n",
    "\n",
    "## Univariate "
   ]
  },
  {
   "cell_type": "code",
   "execution_count": 69,
   "metadata": {},
   "outputs": [],
   "source": [
    "import numpy as np\n",
    "import pandas as pd\n",
    "\n",
    "#from subprocess import check_output\n",
    "#print(check_output([\"ls\"]).decode(\"utf8\")) # Check the contents of our working directory."
   ]
  },
  {
   "cell_type": "markdown",
   "metadata": {},
   "source": [
    "Let's add some labels after importing too. "
   ]
  },
  {
   "cell_type": "code",
   "execution_count": 70,
   "metadata": {},
   "outputs": [
    {
     "data": {
      "text/html": [
       "<div>\n",
       "<style scoped>\n",
       "    .dataframe tbody tr th:only-of-type {\n",
       "        vertical-align: middle;\n",
       "    }\n",
       "\n",
       "    .dataframe tbody tr th {\n",
       "        vertical-align: top;\n",
       "    }\n",
       "\n",
       "    .dataframe thead th {\n",
       "        text-align: right;\n",
       "    }\n",
       "</style>\n",
       "<table border=\"1\" class=\"dataframe\">\n",
       "  <thead>\n",
       "    <tr style=\"text-align: right;\">\n",
       "      <th></th>\n",
       "      <th>x</th>\n",
       "      <th>y</th>\n",
       "    </tr>\n",
       "  </thead>\n",
       "  <tbody>\n",
       "    <tr>\n",
       "      <th>0</th>\n",
       "      <td>0.680264</td>\n",
       "      <td>0.699147</td>\n",
       "    </tr>\n",
       "    <tr>\n",
       "      <th>1</th>\n",
       "      <td>0.656697</td>\n",
       "      <td>0.776185</td>\n",
       "    </tr>\n",
       "    <tr>\n",
       "      <th>2</th>\n",
       "      <td>0.377762</td>\n",
       "      <td>0.569459</td>\n",
       "    </tr>\n",
       "    <tr>\n",
       "      <th>3</th>\n",
       "      <td>0.649411</td>\n",
       "      <td>0.386407</td>\n",
       "    </tr>\n",
       "    <tr>\n",
       "      <th>4</th>\n",
       "      <td>0.491237</td>\n",
       "      <td>0.927979</td>\n",
       "    </tr>\n",
       "  </tbody>\n",
       "</table>\n",
       "</div>"
      ],
      "text/plain": [
       "          x         y\n",
       "0  0.680264  0.699147\n",
       "1  0.656697  0.776185\n",
       "2  0.377762  0.569459\n",
       "3  0.649411  0.386407\n",
       "4  0.491237  0.927979"
      ]
     },
     "execution_count": 70,
     "metadata": {},
     "output_type": "execute_result"
    }
   ],
   "source": [
    "data = pd.read_csv('lineData.csv', header=None)\n",
    "data.columns =(['x','y'])\n",
    "data.head()"
   ]
  },
  {
   "cell_type": "code",
   "execution_count": 71,
   "metadata": {},
   "outputs": [],
   "source": [
    "import matplotlib.pyplot as plt\n",
    "# Plot Inline \n",
    "%matplotlib inline\n",
    "plt.style.use('seaborn-whitegrid')"
   ]
  },
  {
   "cell_type": "code",
   "execution_count": 72,
   "metadata": {},
   "outputs": [
    {
     "data": {
      "image/png": "[encoded data removed]",
      "text/plain": [
       "<Figure size 432x288 with 1 Axes>"
      ]
     },
     "metadata": {},
     "output_type": "display_data"
    }
   ],
   "source": [
    "plt.plot(data.x, data.y, 'r.')\n",
    "plt.show()"
   ]
  },
  {
   "cell_type": "markdown",
   "metadata": {},
   "source": [
    "This looks promising..."
   ]
  },
  {
   "cell_type": "code",
   "execution_count": 73,
   "metadata": {},
   "outputs": [
    {
     "data": {
      "text/html": [
       "<div>\n",
       "<style scoped>\n",
       "    .dataframe tbody tr th:only-of-type {\n",
       "        vertical-align: middle;\n",
       "    }\n",
       "\n",
       "    .dataframe tbody tr th {\n",
       "        vertical-align: top;\n",
       "    }\n",
       "\n",
       "    .dataframe thead th {\n",
       "        text-align: right;\n",
       "    }\n",
       "</style>\n",
       "<table border=\"1\" class=\"dataframe\">\n",
       "  <thead>\n",
       "    <tr style=\"text-align: right;\">\n",
       "      <th></th>\n",
       "      <th>x</th>\n",
       "      <th>y</th>\n",
       "    </tr>\n",
       "  </thead>\n",
       "  <tbody>\n",
       "    <tr>\n",
       "      <th>x</th>\n",
       "      <td>1.000000</td>\n",
       "      <td>0.994863</td>\n",
       "    </tr>\n",
       "    <tr>\n",
       "      <th>y</th>\n",
       "      <td>0.994863</td>\n",
       "      <td>1.000000</td>\n",
       "    </tr>\n",
       "  </tbody>\n",
       "</table>\n",
       "</div>"
      ],
      "text/plain": [
       "          x         y\n",
       "x  1.000000  0.994863\n",
       "y  0.994863  1.000000"
      ]
     },
     "execution_count": 73,
     "metadata": {},
     "output_type": "execute_result"
    }
   ],
   "source": [
    "data.corr()"
   ]
  },
  {
   "cell_type": "markdown",
   "metadata": {},
   "source": [
    "Our data can be represented $( y_i, x_i )$, for all $i = 0 ... n$\n",
    "\n",
    "We can use a linear model to represent our data. A single point would be represented ($\\epsilon$ is a random variable representing the error): \n",
    "$$ y_i = c + mx_i + \\epsilon $$\n",
    "\n",
    "\n",
    "What we want to do is find constants for $c, m, \\epsilon$ that will best predict $y_i$ for $i=0 ...n$ (minimise the error).\n",
    "\n",
    "\n",
    "Our model, error, squared error:\n",
    "\n",
    "$$\\begin{align*}\n",
    "    \\hat{y} &= c + mx\\\\\\\\\n",
    "    e_i &= y_i - \\hat{y_i}\\\\\n",
    "    &= y_i - c - mx_i\\\\\\\\\n",
    "    e^2_i &= (y_i - c - mx_i)^2\\\\\n",
    "  \\end{align*}\n",
    "$$\n",
    "\n",
    "We want to minimise our total error (loss), so we define an error function that sums over all of our data and returns the total squared error: \n",
    "\n",
    "$$\n",
    "error(c, m) = \\sum_{i=1}^n (y_i - c - mx_i)^2\n",
    "$$\n",
    "\n",
    "Then, we minimise this function. We take partial derivatives for $c$ and $m$, set them equal to zero and solve.\n",
    "\n",
    "$$\\begin{align*}\n",
    "     \\frac{\\partial error}{\\partial c} &= \\sum_{i=1}^n 2(y_i - c - mx_i) \\boldsymbol{\\cdot} (-1)\\\\\n",
    "     \\frac{\\partial error}{\\partial m} &= \\sum_{i=1}^n 2(y_i - c - mx_i) \\boldsymbol{\\cdot} -(x_i)\n",
    "  \\end{align*}$$\n",
    "\n",
    "Setting  equal to zero, and solving we get: \n",
    "\n",
    "$$\\begin{align*}\n",
    "     m &= \\frac{\\sum_{i=1}^n(x_i - \\bar{x})(y_i - \\bar{y})}{\\sum_{i=1}^n(x_i - \\bar{x})^2}\\\\\\\\\n",
    "     c &= \\bar{y} - \\hat{m}\\bar{x}\n",
    "  \\end{align*}$$\n",
    "  \n",
    "So, to minimise our square total squared error, thus determining coefficients for our model chose m and c determined by the above equations."
   ]
  },
  {
   "cell_type": "code",
   "execution_count": 74,
   "metadata": {},
   "outputs": [
    {
     "name": "stdout",
     "output_type": "stream",
     "text": [
      "5.3442764931727655 5.4109180519585065\n"
     ]
    }
   ],
   "source": [
    "x_bar = data['x'].mean() # For clarity, store the mean values of x and y\n",
    "y_bar = data['y'].mean()\n",
    "print(x_bar, y_bar)"
   ]
  },
  {
   "cell_type": "code",
   "execution_count": 75,
   "metadata": {},
   "outputs": [
    {
     "name": "stdout",
     "output_type": "stream",
     "text": [
      "0.9855991138644605 0.1436038760407623\n"
     ]
    }
   ],
   "source": [
    "# Calculate m\n",
    "\n",
    "# Initialise\n",
    "numer= 0\n",
    "denom = 0 \n",
    "\n",
    "for index, row in data.iterrows():\n",
    "    numer += (row['x']-x_bar)*(row['y']-y_bar)\n",
    "    denom += (row['x']-x_bar)**2\n",
    "\n",
    "m = numer / denom\n",
    "\n",
    "\n",
    "# Calculate c\n",
    "c = y_bar - m * x_bar\n",
    "print(m,c)"
   ]
  },
  {
   "cell_type": "code",
   "execution_count": 76,
   "metadata": {},
   "outputs": [
    {
     "data": {
      "image/png": "[encoded data removed]",
      "text/plain": [
       "<Figure size 432x288 with 1 Axes>"
      ]
     },
     "metadata": {},
     "output_type": "display_data"
    }
   ],
   "source": [
    "# Plot\n",
    "plt.plot(data.x, c + m*data.x, '-')\n",
    "plt.plot(data.x, data.y, 'r.')\n",
    "plt.show()"
   ]
  },
  {
   "cell_type": "markdown",
   "metadata": {},
   "source": [
    "But what if we want to fit more than one one variable? What if our data isn't randomly generated to be perfectly linear? It turns out any degree polynomial is linear with respect to it's coefficients, so a similar method will work! We just need to re-formulate the problem slightly.\n",
    "\n",
    "Let's say we have some data with n features, we can represent them as the vector of feature vectors:\n",
    "\n",
    "$$\\begin{align}\n",
    "    X &= \\begin{bmatrix}\n",
    "           x_{1} \\\\\n",
    "           x_{2} \\\\\n",
    "           \\vdots \\\\\n",
    "           x_{n}\n",
    "         \\end{bmatrix}\n",
    "  \\end{align}\n",
    "$$\n",
    "\n",
    "and their coefficients, $\\theta$:\n",
    "$$\\begin{align}\n",
    "    \\theta^T &= \\begin{bmatrix}\n",
    "           \\theta_{1} \\\\\n",
    "           \\theta_{2} \\\\\n",
    "           \\vdots \\\\\n",
    "           \\theta_{n}\n",
    "         \\end{bmatrix}\n",
    "  \\end{align}\n",
    "$$\n",
    "\n",
    "We can express our problem (generally) as finding the vector $\\theta$ such that $h(x)$ is fitted to our data.   \n",
    "\n",
    "$$\\begin{align*}\n",
    "h(x)&= \\theta_0x_0 + \\theta_1x_1 + ... + \\theta_nx_n\n",
    "\\end{align*}$$\n",
    "\n",
    "The second formula is the general form for n observtations. We can see that with $n = 1 h(x)$ strongly resembles our model from earlier:\n",
    "\n",
    "$$\\begin{align*}\n",
    "h(x)&= \\theta_0+ \\theta_1x_1\\\\\n",
    " \\hat{y} &= c + mx\n",
    "\\end{align*}$$\n",
    "\n",
    "Note that there is no explicit equivalent to $y_i$ has dissapeared, this is because each $x_i$ is a vector containing the data for that feature. Theta is a constant. \n",
    "\n",
    "\n",
    "$$\n",
    "   \\begin{equation}\n",
    "    x_0 = \\begin{bmatrix}\n",
    "           1 \\\\\n",
    "           1 \\\\\n",
    "           \\vdots \\\\\n",
    "           1\n",
    "         \\end{bmatrix}, \\;\\; x_1 = \\begin{bmatrix}\n",
    "           2 \\\\\n",
    "           4 \\\\\n",
    "           \\vdots \\\\\n",
    "           12\n",
    "         \\end{bmatrix} ,\\;\\;\n",
    "         ...,\\;\\;\n",
    "         \\theta^T = \\begin{bmatrix}\n",
    "           1 \\\\\n",
    "           2 \\\\\n",
    "           \\vdots \\\\\n",
    "           6\n",
    "         \\end{bmatrix}\n",
    "\\end{equation}\n",
    "$$\n",
    "\n",
    "$x_0$ is $\\begin{bmatrix}1\\\\1\\\\\\vdots \\\\\\\\1\\end{bmatrix}$ of length n. We will need to manually add this to our data. This ensures we keep our y intercept ($\\theta_0$)\n",
    "\n"
   ]
  },
  {
   "cell_type": "code",
   "execution_count": null,
   "metadata": {},
   "outputs": [],
   "source": []
  }
 ],
 "metadata": {
  "kernelspec": {
   "display_name": "Python 3",
   "language": "python",
   "name": "python3"
  },
  "language_info": {
   "codemirror_mode": {
    "name": "ipython",
    "version": 3
   },
   "file_extension": ".py",
   "mimetype": "text/x-python",
   "name": "python",
   "nbconvert_exporter": "python",
   "pygments_lexer": "ipython3",
   "version": "3.6.5"
  }
 },
 "nbformat": 4,
 "nbformat_minor": 2
}
